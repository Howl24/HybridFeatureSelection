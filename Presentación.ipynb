{
 "cells": [
  {
   "cell_type": "code",
   "execution_count": 1,
   "metadata": {},
   "outputs": [],
   "source": [
    "%load_ext autoreload\n",
    "%autoreload 2\n",
    "%matplotlib inline"
   ]
  },
  {
   "cell_type": "code",
   "execution_count": 2,
   "metadata": {},
   "outputs": [],
   "source": [
    "import numpy as np\n",
    "import pandas as pd\n",
    "import matplotlib.pyplot as plt"
   ]
  },
  {
   "cell_type": "code",
   "execution_count": 3,
   "metadata": {},
   "outputs": [],
   "source": [
    "import warnings\n",
    "warnings.filterwarnings(\"ignore\")"
   ]
  },
  {
   "cell_type": "markdown",
   "metadata": {},
   "source": [
    "# Algoritmo híbrido para la selección de atributos"
   ]
  },
  {
   "cell_type": "markdown",
   "metadata": {},
   "source": [
    "### Lectura de datos"
   ]
  },
  {
   "cell_type": "code",
   "execution_count": 4,
   "metadata": {},
   "outputs": [
    {
     "name": "stdout",
     "output_type": "stream",
     "text": [
      "Dataset: \t\t dataset_glioma_rickman\n",
      "Nro de muestras: \t 40\n",
      "Nro de atributos: \t 2000\n",
      "Nro de clases: \t\t 2\n",
      "Muestras por clase: \n",
      "\t\t\t 0 -> 19\n",
      "\t\t\t 1 -> 21\n"
     ]
    }
   ],
   "source": [
    "from project.utils import read_datasets\n",
    "from project.utils.io import describe\n",
    "\n",
    "corpus = \"test\"\n",
    "\n",
    "datasets = read_datasets(corpus)\n",
    "dataset = datasets[0]\n",
    "X = dataset.X\n",
    "y = dataset.y\n",
    "\n",
    "describe(dataset)"
   ]
  },
  {
   "cell_type": "markdown",
   "metadata": {},
   "source": [
    "## Filtro de atributos por métodos de ranking"
   ]
  },
  {
   "cell_type": "code",
   "execution_count": 5,
   "metadata": {},
   "outputs": [
    {
     "data": {
      "image/png": "[encoded data removed]",
      "text/plain": [
       "<matplotlib.figure.Figure at 0x7fe37073ca90>"
      ]
     },
     "metadata": {},
     "output_type": "display_data"
    }
   ],
   "source": [
    "from project.rankers import FeatureFilter\n",
    "\n",
    "ranker_methods = [\"reliefF\", \"fisher\"]\n",
    "ff = FeatureFilter(ranker_methods, score_threshold=0.2)\n",
    "\n",
    "ff.evaluate_rankers(dataset)\n",
    "ff.normalize()\n",
    "ff.plot()"
   ]
  },
  {
   "cell_type": "code",
   "execution_count": 6,
   "metadata": {},
   "outputs": [
    {
     "data": {
      "text/plain": [
       "{'fisher': array([ 226, 1580,  485, 1394, 1223,  298,  703,  257, 1106,   83,   81,\n",
       "          27, 1085,  718,    3, 1058,   48,   71, 1669, 1455,  220, 1977,\n",
       "        1541,   49,  137,  672,  686,  797,  341,  609, 1469,  209,  676,\n",
       "        1572,  749, 1753, 1121, 1055, 1070,  831, 1987, 1523,  482, 1666,\n",
       "         238,  132,  613,  775,  101, 1128,   97,  901, 1313,  504,  818,\n",
       "         995,  591,  500,  449,  996, 1637, 1317,  698,  936, 1818, 1160,\n",
       "         148,  103,  521]),\n",
       " 'reliefF': array([   3,    0,   27,   49,    2,   83,   37,    7,   13,   17,  101,\n",
       "          20,    5,  148,   21,   48,   81,   39,   71,   12,  226,   52,\n",
       "          68,   11,   97,  197,   18,  298,   32,  257,   16,    6,  209,\n",
       "         134,  238,   72,  190,  103,  127,   29,  114,  220,  131,   84,\n",
       "         299,   53,  193,   85,  132,    8,  137,   88,   10,   61,  149,\n",
       "         111,  485,  248,  251,   76,  482,   38,  263,  115,  208,  210,\n",
       "         306,   50,  222,   30,  135,   79,   58,  504,  195,  334,  521,\n",
       "         342,  374,  253,   28,  116,  181,  500,  239,  241,  475,  331,\n",
       "          62,   15,   41,  170,  513,  200,   60,  380,  370,  205,  349,\n",
       "          56,  270,  318,   19,  352,  703,  512,  698,  449,   23,   89,\n",
       "           9,  229,   44,   33,  468,  341,  591,  456,  686,  526,  672,\n",
       "          98,  738,  100,  145,  291,  609,   65,   70,  333,  362,  371,\n",
       "         267,  603,  679,  244,   67,  321,  749,  775,  676,  166,  720,\n",
       "         784,  346,  262,  122,  293,  212,  192,  265,  466,  495,  809,\n",
       "         295,  506,  375,  231,  531,   74,  196,  515,  613,  401,  455,\n",
       "          40,  563, 1106,  789,  260,  995,  624,   80,  981,  818,  187,\n",
       "         335,  438,  223,  879,  551,  157,  201,  864,  666,  303,  753,\n",
       "         904,  236,  316,   82,  264,  674,  797,  300,  327,  543,  364,\n",
       "          63,  454,  369,  172,  182,  718,  769,  909,  151,  525,  597,\n",
       "         329,  304,  179, 1152,  160,  294, 1128,  393, 1394,  311,  556,\n",
       "         897,  532,  936,  216,  266,  420,  647,  901,  617, 1085,  953,\n",
       "         810,  473,  141,  109,  929,   59,  162,  441,  249,  846,  261,\n",
       "         361, 1120, 1055,  411])}"
      ]
     },
     "execution_count": 6,
     "metadata": {},
     "output_type": "execute_result"
    }
   ],
   "source": [
    "features = ff.filter_features()\n",
    "features"
   ]
  },
  {
   "cell_type": "markdown",
   "metadata": {},
   "source": [
    "## Algoritmo genético"
   ]
  },
  {
   "cell_type": "code",
   "execution_count": 11,
   "metadata": {},
   "outputs": [],
   "source": [
    "import project.genetic_algorithm as GA"
   ]
  },
  {
   "cell_type": "markdown",
   "metadata": {},
   "source": [
    "\n",
    "Se evaluará el número de generaciones a utilizar."
   ]
  },
  {
   "cell_type": "code",
   "execution_count": 12,
   "metadata": {},
   "outputs": [],
   "source": [
    "from functools import reduce\n",
    "from sklearn.base import TransformerMixin\n",
    "from sklearn.model_selection import cross_val_predict\n",
    "from sklearn.svm import LinearSVC\n",
    "from sklearn.pipeline import Pipeline\n",
    "from sklearn.model_selection import StratifiedKFold\n",
    "from project.rankers import FeatureFilter\n",
    "import project.genetic_algorithm as GA\n",
    "from sklearn.preprocessing import StandardScaler\n",
    "\n",
    "class GAFeatureSelection(TransformerMixin):\n",
    "    def __init__(self, ranker_methods, score_threshold, estimator, metric, cv, acc_weight):\n",
    "        self.ranker_methods = ranker_methods\n",
    "        self.score_threshold = score_threshold\n",
    "        self.estimator = estimator\n",
    "        self.metric = metric\n",
    "        self.cv = cv\n",
    "        self.acc_weight = acc_weight\n",
    "        \n",
    "    def fit(self, X, y=None, **fit_params):        \n",
    "        ff = FeatureFilter(self.ranker_methods, score_threshold=self.score_threshold)\n",
    "        ff._evaluate_rankers(X, y)\n",
    "        ff.normalize()\n",
    "        \n",
    "        features = ff.filter_features()\n",
    "        ranker_features = reduce(np.union1d, features.values())\n",
    "        \n",
    "        fitness_function = lambda dna: GA.cho_fitness_function(dna,\n",
    "            X, y, ranker_features,\n",
    "            self.estimator, self.metric, self.cv,\n",
    "            acc_weight=self.acc_weight)\n",
    "        \n",
    "        GA.Individual.Configure(dna_size=len(ranker_features),\n",
    "                                fitness_function=fitness_function)\n",
    "        ga = GA.GeneticAlgorithm(generations=20)\n",
    "        fittest,_ = ga.run(n_iter=20, plot=False)\n",
    "        \n",
    "        self.selected_features = ranker_features[fittest.dna]\n",
    "        return self\n",
    "    \n",
    "    def transform(self, X, **transform_params):        \n",
    "        return X[:, self.selected_features]"
   ]
  },
  {
   "cell_type": "code",
   "execution_count": 13,
   "metadata": {},
   "outputs": [],
   "source": [
    "from sklearn.base import TransformerMixin\n",
    "from project.rankers import select_features\n",
    "from project.utils.metrics import evaluate_metric\n",
    "\n",
    "class RankerFeatureSelection(TransformerMixin):\n",
    "    def __init__(self, fs_key, n_features, estimator, cv):\n",
    "        self.fs_key = fs_key\n",
    "        self.n_features = n_features\n",
    "        self.estimator = estimator\n",
    "        self.cv = cv\n",
    "        \n",
    "    def fit(self, X, y=None, **fit_params):\n",
    "        y_preds = {}\n",
    "        for i in range(1, self.n_features+1):\n",
    "            y_preds[i] = -1 * np.ones(y.shape)\n",
    "            \n",
    "        for train, test in self.cv.split(X, y):\n",
    "            X_train, X_test = X[train], X[test]\n",
    "            y_train, y_test = y[train], y[test]\n",
    "            \n",
    "            selected_features = select_features(\n",
    "                self.fs_key, X_train, y_train,\n",
    "                self.n_features)\n",
    "            \n",
    "            for nf, features in selected_features.items():\n",
    "                X_train_selected = X_train[:, features]\n",
    "                X_test_selected = X_test[:, features]\n",
    "                \n",
    "                self.estimator.fit(X_train_selected, y_train)\n",
    "                y_pred = self.estimator.predict(X_test_selected)                \n",
    "                y_preds[nf][test] = y_pred\n",
    "        \n",
    "        \n",
    "        scores = {nf: evaluate_metric(\"gmean\", y, y_pred)\n",
    "                  for nf, y_pred in y_preds.items()}\n",
    "        \n",
    "        best_nf = max(scores, key=lambda key:scores[key])\n",
    "        selected_features = select_features(\n",
    "            self.fs_key, X, y, self.n_features)\n",
    "        \n",
    "        self.selected_features = selected_features[best_nf]\n",
    "        return self\n",
    "    \n",
    "    def transform(self, X, **transform_params):                \n",
    "        return X[:, self.selected_features] \n"
   ]
  },
  {
   "cell_type": "markdown",
   "metadata": {},
   "source": [
    "En primer lugar, se mostrará la media y varianza de los mejores fitness alcanzados en 20 iteraciones del algoritmo.\n"
   ]
  },
  {
   "cell_type": "code",
   "execution_count": 14,
   "metadata": {},
   "outputs": [],
   "source": [
    "def ga_test(ranker_methods, score_threshold, X, y, estimator, metric, cv, acc_weight, generations):\n",
    "    ff = FeatureFilter(ranker_methods, score_threshold=score_threshold)\n",
    "    ff._evaluate_rankers(X, y)\n",
    "    ff.normalize()\n",
    "\n",
    "    features = ff.filter_features()\n",
    "    ranker_features = reduce(np.union1d, features.values())\n",
    "\n",
    "\n",
    "    fitness_function = lambda dna: GA.cho_fitness_function(dna,\n",
    "        X, y, ranker_features,\n",
    "        estimator, metric, cv,\n",
    "        acc_weight= acc_weight)\n",
    "\n",
    "    GA.Individual.Configure(dna_size=len(ranker_features),\n",
    "                            fitness_function=fitness_function)\n",
    "    ga = GA.GeneticAlgorithm(generations=generations)\n",
    "    fittest, selected = ga.run(n_iter=20, plot=False)\n",
    "    return selected"
   ]
  },
  {
   "cell_type": "code",
   "execution_count": 15,
   "metadata": {},
   "outputs": [],
   "source": [
    "X = dataset.X\n",
    "y = dataset.y\n",
    "\n",
    "ranker_methods = [\"reliefF\"]\n",
    "score_threshold = 0.2\n",
    "estimator = LinearSVC()\n",
    "metric = \"gmean\"\n",
    "cv = StratifiedKFold(3)\n",
    "acc_weight = 0.9\n",
    "generations = 20\n",
    "\n",
    "selected = ga_test(ranker_methods, score_threshold, X, y, estimator, metric, cv, acc_weight, generations)"
   ]
  },
  {
   "cell_type": "code",
   "execution_count": null,
   "metadata": {},
   "outputs": [],
   "source": [
    "gens = []\n",
    "selected_by_gen = []\n",
    "mean_by_gen = []\n",
    "var_by_gen = []\n",
    "for g in range(5, 41, 5):    \n",
    "    gens.append(g)    \n",
    "    selected = foo(ranker_methods, score_threshold, X, y, estimator, metric, cv, acc_weight, g)\n",
    "    selected_by_gen.append(selected)\n",
    "    \n",
    "    sel_fitness = [i.fitness for i in selected]\n",
    "    \n",
    "    mean_by_gen.append(np.mean(sel_fitness))\n",
    "    var_by_gen.append(np.var(sel_fitness))\n",
    "    \n",
    "    print(g, np.mean(sel_fitness), np.var(sel_fitness))"
   ]
  },
  {
   "cell_type": "code",
   "execution_count": null,
   "metadata": {},
   "outputs": [],
   "source": [
    "plt.plot(gens, mean_by_gen)"
   ]
  },
  {
   "cell_type": "code",
   "execution_count": null,
   "metadata": {},
   "outputs": [],
   "source": [
    "plt.plot(gens, var_by_gen)"
   ]
  },
  {
   "cell_type": "markdown",
   "metadata": {},
   "source": [
    "### Evaluación de método de filtro"
   ]
  },
  {
   "cell_type": "code",
   "execution_count": null,
   "metadata": {
    "scrolled": false
   },
   "outputs": [
    {
     "name": "stdout",
     "output_type": "stream",
     "text": [
      "1 dataset_glioma_rickman\n",
      "2 dataset_ovarian_li_and_campbell\n",
      "3 dataset_breast_gruvberger\n",
      "4 dataset_mixed_chowdary\n",
      "5 dataset_prostate_tomlins\n",
      "6 dataset_lymphoma_shipp\n"
     ]
    }
   ],
   "source": [
    "pipe_reliefF = Pipeline([\n",
    "    ('norm', StandardScaler()),\n",
    "    ('fs', RankerFeatureSelection(\"reliefF\", 100, LinearSVC(), StratifiedKFold(3))),\n",
    "    ('clf', LinearSVC()),\n",
    "])\n",
    "\n",
    "pipe_ga_reliefF = Pipeline([\n",
    "    ('norm', StandardScaler()),\n",
    "    ('fs', GAFeatureSelection([\"reliefF\"], 0.2, LinearSVC(), \"gmean\", StratifiedKFold(3), 0.9)),\n",
    "    ('clf', LinearSVC()),\n",
    "])\n",
    "\n",
    "df = []\n",
    "for i, dataset in enumerate(datasets):\n",
    "    print(i+1, dataset.name)\n",
    "    \n",
    "    X = dataset.X\n",
    "    y = dataset.y\n",
    "    \n",
    "    y_pred_reliefF = cross_val_predict(pipe_reliefF, X, y, cv=StratifiedKFold(3), n_jobs=-1)\n",
    "    y_pred_ga_reliefF = cross_val_predict(pipe_ga_reliefF, X, y, cv=StratifiedKFold(3), n_jobs=-1)\n",
    "    \n",
    "    df.append({\"dataset\": dataset.name,\n",
    "               \"reliefF\": evaluate_metric(\"gmean\", y, y_pred_reliefF),\n",
    "               \"ga_reliefF\": evaluate_metric(\"gmean\", y, y_pred_ga_reliefF),\n",
    "              })"
   ]
  },
  {
   "cell_type": "code",
   "execution_count": 10,
   "metadata": {},
   "outputs": [],
   "source": [
    "df = pd.DataFrame(df)\n",
    "\n",
    "df = df.set_index('dataset')\n",
    "df"
   ]
  },
  {
   "cell_type": "code",
   "execution_count": 12,
   "metadata": {},
   "outputs": [
    {
     "data": {
      "text/html": [
       "<div>\n",
       "<style scoped>\n",
       "    .dataframe tbody tr th:only-of-type {\n",
       "        vertical-align: middle;\n",
       "    }\n",
       "\n",
       "    .dataframe tbody tr th {\n",
       "        vertical-align: top;\n",
       "    }\n",
       "\n",
       "    .dataframe thead th {\n",
       "        text-align: right;\n",
       "    }\n",
       "</style>\n",
       "<table border=\"1\" class=\"dataframe\">\n",
       "  <thead>\n",
       "    <tr style=\"text-align: right;\">\n",
       "      <th></th>\n",
       "      <th>ga_reliefF</th>\n",
       "      <th>reliefF</th>\n",
       "    </tr>\n",
       "    <tr>\n",
       "      <th>dataset</th>\n",
       "      <th></th>\n",
       "      <th></th>\n",
       "    </tr>\n",
       "  </thead>\n",
       "  <tbody>\n",
       "    <tr>\n",
       "      <th>dataset_glioma_rickman</th>\n",
       "      <td>0.872872</td>\n",
       "      <td>0.786796</td>\n",
       "    </tr>\n",
       "    <tr>\n",
       "      <th>dataset_ovarian_li_and_campbell</th>\n",
       "      <td>0.870823</td>\n",
       "      <td>0.893650</td>\n",
       "    </tr>\n",
       "    <tr>\n",
       "      <th>dataset_breast_gruvberger</th>\n",
       "      <td>0.755929</td>\n",
       "      <td>0.914174</td>\n",
       "    </tr>\n",
       "    <tr>\n",
       "      <th>dataset_mixed_chowdary</th>\n",
       "      <td>0.991903</td>\n",
       "      <td>0.980023</td>\n",
       "    </tr>\n",
       "    <tr>\n",
       "      <th>dataset_prostate_tomlins</th>\n",
       "      <td>0.877811</td>\n",
       "      <td>0.728756</td>\n",
       "    </tr>\n",
       "    <tr>\n",
       "      <th>dataset_lymphoma_shipp</th>\n",
       "      <td>0.878251</td>\n",
       "      <td>0.783218</td>\n",
       "    </tr>\n",
       "    <tr>\n",
       "      <th>dataset_liver_chen</th>\n",
       "      <td>0.975305</td>\n",
       "      <td>0.968182</td>\n",
       "    </tr>\n",
       "    <tr>\n",
       "      <th>dataset_myeloma_tian</th>\n",
       "      <td>0.503032</td>\n",
       "      <td>0.558064</td>\n",
       "    </tr>\n",
       "    <tr>\n",
       "      <th>dataset_leukemia_andersson</th>\n",
       "      <td>0.953649</td>\n",
       "      <td>0.910825</td>\n",
       "    </tr>\n",
       "    <tr>\n",
       "      <th>dataset_glioma_nutt</th>\n",
       "      <td>0.592157</td>\n",
       "      <td>0.522233</td>\n",
       "    </tr>\n",
       "  </tbody>\n",
       "</table>\n",
       "</div>"
      ],
      "text/plain": [
       "                                 ga_reliefF   reliefF\n",
       "dataset                                              \n",
       "dataset_glioma_rickman             0.872872  0.786796\n",
       "dataset_ovarian_li_and_campbell    0.870823  0.893650\n",
       "dataset_breast_gruvberger          0.755929  0.914174\n",
       "dataset_mixed_chowdary             0.991903  0.980023\n",
       "dataset_prostate_tomlins           0.877811  0.728756\n",
       "dataset_lymphoma_shipp             0.878251  0.783218\n",
       "dataset_liver_chen                 0.975305  0.968182\n",
       "dataset_myeloma_tian               0.503032  0.558064\n",
       "dataset_leukemia_andersson         0.953649  0.910825\n",
       "dataset_glioma_nutt                0.592157  0.522233"
      ]
     },
     "execution_count": 12,
     "metadata": {},
     "output_type": "execute_result"
    }
   ],
   "source": []
  },
  {
   "cell_type": "code",
   "execution_count": 55,
   "metadata": {},
   "outputs": [
    {
     "data": {
      "image/png": "[encoded data removed]",
      "text/plain": [
       "<matplotlib.figure.Figure at 0x7f8937c82748>"
      ]
     },
     "metadata": {},
     "output_type": "display_data"
    }
   ],
   "source": [
    "import seaborn as sns\n",
    "sns.set_style(\"darkgrid\")\n",
    "\n",
    "n_groups = 10\n",
    "index = np.arange(n_groups)\n",
    "fig, ax = plt.subplots(figsize=(15, 5))\n",
    "\n",
    "\n",
    "index = np.arange(n_groups)\n",
    "bar_width = 0.35\n",
    "opacity = 0.8\n",
    "rects1 = plt.bar(index, df['ga_reliefF'], bar_width,\n",
    "                 alpha=opacity,                 \n",
    "                 label='GA_reliefF')\n",
    " \n",
    "rects2 = plt.bar(index + bar_width, df['reliefF'], bar_width,\n",
    "                 alpha=opacity,                 \n",
    "                 label='reliefF')\n",
    "\n",
    "plt.rc('font', size=10) \n",
    "plt.ylabel(\"Precisión\")\n",
    "plt.xticks(index-bar_width, df.index, rotation=45)\n",
    "plt.legend()\n",
    "plt.show()"
   ]
  },
  {
   "cell_type": "code",
   "execution_count": 13,
   "metadata": {},
   "outputs": [
    {
     "name": "stdout",
     "output_type": "stream",
     "text": [
      "1 dataset_glioma_rickman\n",
      "2 dataset_ovarian_li_and_campbell\n",
      "3 dataset_breast_gruvberger\n",
      "4 dataset_mixed_chowdary\n",
      "5 dataset_prostate_tomlins\n",
      "6 dataset_lymphoma_shipp\n",
      "7 dataset_liver_chen\n",
      "8 dataset_myeloma_tian\n",
      "9 dataset_leukemia_andersson\n",
      "10 dataset_glioma_nutt\n"
     ]
    }
   ],
   "source": [
    "pipe_reliefF = Pipeline([\n",
    "    ('norm', StandardScaler()),\n",
    "    ('fs', RankerFeatureSelection(\"reliefF\", 100, LinearSVC(), StratifiedKFold(3))),\n",
    "    ('clf', LinearSVC()),\n",
    "])\n",
    "\n",
    "pipe_fisher = Pipeline([\n",
    "    ('norm', StandardScaler()),\n",
    "    ('fs', RankerFeatureSelection(\"fisher\", 100, LinearSVC(), StratifiedKFold(3))),\n",
    "    ('clf', LinearSVC()),\n",
    "])\n",
    "\n",
    "pipe_ga_reliefF_fisher = Pipeline([\n",
    "    ('norm', StandardScaler()),\n",
    "    ('fs', GAFeatureSelection([\"fisher\", \"reliefF\"], 0.2, LinearSVC(), \"gmean\", StratifiedKFold(3), 0.9)),\n",
    "    ('clf', LinearSVC()),\n",
    "])\n",
    "\n",
    "df3 = []\n",
    "for i, dataset in enumerate(datasets):\n",
    "    print(i+1, dataset.name)\n",
    "    \n",
    "    X = dataset.X\n",
    "    y = dataset.y\n",
    "    \n",
    "    y_pred_reliefF = cross_val_predict(pipe_reliefF, X, y, cv=StratifiedKFold(3), n_jobs=-1)\n",
    "    y_pred_fisher = cross_val_predict(pipe_fisher, X, y, cv=StratifiedKFold(3), n_jobs=-1)\n",
    "    \n",
    "    y_pred_ga_reliefF_fisher = cross_val_predict(pipe_ga_reliefF_fisher, X, y, cv=StratifiedKFold(3), n_jobs=-1)\n",
    "    \n",
    "    df3.append({\"dataset\": dataset.name,\n",
    "               \"reliefF\": evaluate_metric(\"gmean\", y, y_pred_reliefF),\n",
    "               \"fisher\": evaluate_metric(\"gmean\", y, y_pred_fisher),\n",
    "               \"ga_reliefF_fisher\": evaluate_metric(\"gmean\", y, y_pred_ga_reliefF_fisher),\n",
    "              })\n",
    "\n",
    "df3 = pd.DataFrame(df3)\n",
    "df3 = df3.set_index('dataset')"
   ]
  },
  {
   "cell_type": "code",
   "execution_count": 14,
   "metadata": {},
   "outputs": [
    {
     "data": {
      "text/html": [
       "<div>\n",
       "<style scoped>\n",
       "    .dataframe tbody tr th:only-of-type {\n",
       "        vertical-align: middle;\n",
       "    }\n",
       "\n",
       "    .dataframe tbody tr th {\n",
       "        vertical-align: top;\n",
       "    }\n",
       "\n",
       "    .dataframe thead th {\n",
       "        text-align: right;\n",
       "    }\n",
       "</style>\n",
       "<table border=\"1\" class=\"dataframe\">\n",
       "  <thead>\n",
       "    <tr style=\"text-align: right;\">\n",
       "      <th></th>\n",
       "      <th>fisher</th>\n",
       "      <th>ga_reliefF_fisher</th>\n",
       "      <th>reliefF</th>\n",
       "    </tr>\n",
       "    <tr>\n",
       "      <th>dataset</th>\n",
       "      <th></th>\n",
       "      <th></th>\n",
       "      <th></th>\n",
       "    </tr>\n",
       "  </thead>\n",
       "  <tbody>\n",
       "    <tr>\n",
       "      <th>dataset_glioma_rickman</th>\n",
       "      <td>0.807235</td>\n",
       "      <td>0.794719</td>\n",
       "      <td>0.786796</td>\n",
       "    </tr>\n",
       "    <tr>\n",
       "      <th>dataset_ovarian_li_and_campbell</th>\n",
       "      <td>0.874007</td>\n",
       "      <td>0.912871</td>\n",
       "      <td>0.893650</td>\n",
       "    </tr>\n",
       "    <tr>\n",
       "      <th>dataset_breast_gruvberger</th>\n",
       "      <td>0.914174</td>\n",
       "      <td>0.810643</td>\n",
       "      <td>0.914174</td>\n",
       "    </tr>\n",
       "    <tr>\n",
       "      <th>dataset_mixed_chowdary</th>\n",
       "      <td>0.955821</td>\n",
       "      <td>0.980023</td>\n",
       "      <td>0.980023</td>\n",
       "    </tr>\n",
       "    <tr>\n",
       "      <th>dataset_prostate_tomlins</th>\n",
       "      <td>0.783043</td>\n",
       "      <td>0.815070</td>\n",
       "      <td>0.728756</td>\n",
       "    </tr>\n",
       "    <tr>\n",
       "      <th>dataset_lymphoma_shipp</th>\n",
       "      <td>0.666818</td>\n",
       "      <td>0.904215</td>\n",
       "      <td>0.783218</td>\n",
       "    </tr>\n",
       "    <tr>\n",
       "      <th>dataset_liver_chen</th>\n",
       "      <td>0.981537</td>\n",
       "      <td>0.974882</td>\n",
       "      <td>0.968182</td>\n",
       "    </tr>\n",
       "    <tr>\n",
       "      <th>dataset_myeloma_tian</th>\n",
       "      <td>0.602778</td>\n",
       "      <td>0.545943</td>\n",
       "      <td>0.558064</td>\n",
       "    </tr>\n",
       "    <tr>\n",
       "      <th>dataset_leukemia_andersson</th>\n",
       "      <td>0.943382</td>\n",
       "      <td>0.943382</td>\n",
       "      <td>0.910825</td>\n",
       "    </tr>\n",
       "    <tr>\n",
       "      <th>dataset_glioma_nutt</th>\n",
       "      <td>0.522233</td>\n",
       "      <td>0.649675</td>\n",
       "      <td>0.522233</td>\n",
       "    </tr>\n",
       "  </tbody>\n",
       "</table>\n",
       "</div>"
      ],
      "text/plain": [
       "                                   fisher  ga_reliefF_fisher   reliefF\n",
       "dataset                                                               \n",
       "dataset_glioma_rickman           0.807235           0.794719  0.786796\n",
       "dataset_ovarian_li_and_campbell  0.874007           0.912871  0.893650\n",
       "dataset_breast_gruvberger        0.914174           0.810643  0.914174\n",
       "dataset_mixed_chowdary           0.955821           0.980023  0.980023\n",
       "dataset_prostate_tomlins         0.783043           0.815070  0.728756\n",
       "dataset_lymphoma_shipp           0.666818           0.904215  0.783218\n",
       "dataset_liver_chen               0.981537           0.974882  0.968182\n",
       "dataset_myeloma_tian             0.602778           0.545943  0.558064\n",
       "dataset_leukemia_andersson       0.943382           0.943382  0.910825\n",
       "dataset_glioma_nutt              0.522233           0.649675  0.522233"
      ]
     },
     "execution_count": 14,
     "metadata": {},
     "output_type": "execute_result"
    }
   ],
   "source": [
    "df3"
   ]
  },
  {
   "cell_type": "code",
   "execution_count": 25,
   "metadata": {},
   "outputs": [
    {
     "data": {
      "image/png": "[encoded data removed]",
      "text/plain": [
       "<matplotlib.figure.Figure at 0x7f9e28bb1a58>"
      ]
     },
     "metadata": {},
     "output_type": "display_data"
    }
   ],
   "source": [
    "\n",
    "\n",
    "import seaborn as sns\n",
    "sns.set_style(\"darkgrid\")\n",
    "\n",
    "n_groups = 10\n",
    "index = np.arange(n_groups)\n",
    "fig, ax = plt.subplots(figsize=(15, 5))\n",
    "\n",
    "\n",
    "index = np.arange(n_groups)\n",
    "bar_width = 0.2\n",
    "\n",
    "opacity = 0.8\n",
    "\n",
    "rects2 = plt.bar(index, df3['ga_reliefF_fisher'], bar_width,\n",
    "                 alpha=opacity,                 \n",
    "                 label='GA')\n",
    "\n",
    "rects1 = plt.bar(index + bar_width, df3['reliefF'], bar_width,\n",
    "                 alpha=opacity,                 \n",
    "                 label='reliefF')\n",
    " \n",
    "rects2 = plt.bar(index + 2*bar_width, df3['fisher'], bar_width,\n",
    "                 alpha=opacity,                 \n",
    "                 label='fisher')\n",
    "\n",
    "\n",
    "\n",
    "plt.rc('font', size=10) \n",
    "plt.ylabel(\"Precisión\")\n",
    "plt.xticks(index-bar_width, df2.index, rotation=45)\n",
    "plt.legend()\n",
    "plt.show()"
   ]
  },
  {
   "cell_type": "code",
   "execution_count": 26,
   "metadata": {},
   "outputs": [
    {
     "name": "stdout",
     "output_type": "stream",
     "text": [
      "dataset_glioma_rickman\n",
      "dataset_ovarian_li_and_campbell\n",
      "dataset_breast_gruvberger\n",
      "dataset_mixed_chowdary\n",
      "dataset_prostate_tomlins\n",
      "dataset_lymphoma_shipp\n",
      "dataset_liver_chen\n",
      "dataset_myeloma_tian\n",
      "dataset_leukemia_andersson\n",
      "dataset_glioma_nutt\n"
     ]
    }
   ],
   "source": [
    "for dataset in datasets:\n",
    "    print(dataset.name)"
   ]
  }
 ],
 "metadata": {
  "kernelspec": {
   "display_name": "Python 3",
   "language": "python",
   "name": "python3"
  },
  "language_info": {
   "codemirror_mode": {
    "name": "ipython",
    "version": 3
   },
   "file_extension": ".py",
   "mimetype": "text/x-python",
   "name": "python",
   "nbconvert_exporter": "python",
   "pygments_lexer": "ipython3",
   "version": "3.6.4"
  }
 },
 "nbformat": 4,
 "nbformat_minor": 2
}
